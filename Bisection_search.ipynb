{
  "nbformat": 4,
  "nbformat_minor": 0,
  "metadata": {
    "colab": {
      "provenance": [],
      "authorship_tag": "ABX9TyPXSTNOlpdFpyVva1p4Znlx",
      "include_colab_link": true
    },
    "kernelspec": {
      "name": "python3",
      "display_name": "Python 3"
    },
    "language_info": {
      "name": "python"
    }
  },
  "cells": [
    {
      "cell_type": "markdown",
      "metadata": {
        "id": "view-in-github",
        "colab_type": "text"
      },
      "source": [
        "<a href=\"https://colab.research.google.com/github/egipot/MIT-6-000-1-IntroToComputerScienceUsingPython/blob/main/Bisection_search.ipynb\" target=\"_parent\"><img src=\"https://colab.research.google.com/assets/colab-badge.svg\" alt=\"Open In Colab\"/></a>"
      ]
    },
    {
      "cell_type": "markdown",
      "source": [
        "Bisection search works only in finding squares or cubes greater than 1.\n"
      ],
      "metadata": {
        "id": "sRBTidNWJ-J1"
      }
    },
    {
      "cell_type": "code",
      "execution_count": null,
      "metadata": {
        "colab": {
          "base_uri": "https://localhost:8080/"
        },
        "id": "_ERpVmVxAwiK",
        "outputId": "f0cb20b8-3275-42d9-b600-be489eafe891"
      },
      "outputs": [
        {
          "output_type": "stream",
          "name": "stdout",
          "text": [
            "low = 1.0 high = 25 ans = 13.0\n",
            "low = 1.0 high = 13.0 ans = 7.0\n",
            "low = 1.0 high = 7.0 ans = 4.0\n",
            "low = 4.0 high = 7.0 ans = 5.5\n",
            "low = 4.0 high = 5.5 ans = 4.75\n",
            "low = 4.75 high = 5.5 ans = 5.125\n",
            "low = 4.75 high = 5.125 ans = 4.9375\n",
            "low = 4.9375 high = 5.125 ans = 5.03125\n",
            "low = 4.9375 high = 5.03125 ans = 4.984375\n",
            "low = 4.984375 high = 5.03125 ans = 5.0078125\n",
            "low = 4.984375 high = 5.0078125 ans = 4.99609375\n",
            "low = 4.99609375 high = 5.0078125 ans = 5.001953125\n",
            "numGuesses = 12\n",
            "4.9990234375 is close to square root of 25\n"
          ]
        }
      ],
      "source": [
        "#square root\n",
        "x = 25\n",
        "epsilon = 0.01\n",
        "numGuesses = 0\n",
        "low = 1.0\n",
        "high = x\n",
        "ans = (high+low)/2.0\n",
        "\n",
        "while abs(ans**2 - x) >= epsilon:\n",
        "  print('low = ' + str(low) + ' high = ' + str(high) +  ' ans = ' + str(ans))\n",
        "  numGuesses += 1\n",
        "  if ans**2 < x:\n",
        "    low = ans\n",
        "  else:\n",
        "    high = ans\n",
        "  ans = (high + low) / 2.0\n",
        "\n",
        "print('numGuesses = ' + str(numGuesses))\n",
        "\n",
        "print(str(ans) + ' is close to square root of ' + str(x))\n",
        "\n"
      ]
    },
    {
      "cell_type": "code",
      "source": [
        "#square root\n",
        "x = 25\n",
        "epsilon = 0.01\n",
        "numGuesses = 0\n",
        "low = 1.0\n",
        "high = x\n",
        "ans = (high+low)//2.0\n",
        "\n",
        "while abs(ans**2 - x) >= epsilon:\n",
        "  print('low = ' + str(low) + ' high = ' + str(high) +  ' ans = ' + str(ans))\n",
        "  numGuesses += 1\n",
        "  if ans**2 < x:\n",
        "    low = ans\n",
        "  else:\n",
        "    high = ans\n",
        "  ans = (high + low) // 2.0\n",
        "\n",
        "print('numGuesses = ' + str(numGuesses))\n",
        "\n",
        "print(str(ans) + ' is close to square root of ' + str(x))\n"
      ],
      "metadata": {
        "colab": {
          "base_uri": "https://localhost:8080/"
        },
        "id": "Q-1A-hPgJB0E",
        "outputId": "711c5451-31ef-4ae6-d6aa-8b82974ed896"
      },
      "execution_count": null,
      "outputs": [
        {
          "output_type": "stream",
          "name": "stdout",
          "text": [
            "low = 1.0 high = 25 ans = 13.0\n",
            "low = 1.0 high = 13.0 ans = 7.0\n",
            "low = 1.0 high = 7.0 ans = 4.0\n",
            "numGuesses = 3\n",
            "5.0 is close to square root of 25\n"
          ]
        }
      ]
    },
    {
      "cell_type": "code",
      "source": [
        "#cube root\n",
        "x = 27\n",
        "epsilon = 0.01\n",
        "numGuesses = 0\n",
        "low = 1.0\n",
        "high = x\n",
        "ans = (high+low)/2.0\n",
        "\n",
        "while abs(ans**3 - x) >= epsilon:\n",
        "  print('low = ' + str(low) + ' high = ' + str(high) +  ' ans = ' + str(ans))\n",
        "  numGuesses += 1\n",
        "  if ans**3 < x:\n",
        "    low = ans\n",
        "  else:\n",
        "    high = ans\n",
        "  ans = (high + low) / 2.0\n",
        "\n",
        "print('numGuesses = ' + str(numGuesses))\n",
        "\n",
        "print(str(ans) + ' is close to square root of ' + str(x))\n"
      ],
      "metadata": {
        "colab": {
          "base_uri": "https://localhost:8080/"
        },
        "id": "G06uVcf-Eha4",
        "outputId": "3ce6eee0-1ca4-4988-abbf-cd56143a32ce"
      },
      "execution_count": null,
      "outputs": [
        {
          "output_type": "stream",
          "name": "stdout",
          "text": [
            "low = 1.0 high = 27 ans = 14.0\n",
            "low = 1.0 high = 14.0 ans = 7.5\n",
            "low = 1.0 high = 7.5 ans = 4.25\n",
            "low = 1.0 high = 4.25 ans = 2.625\n",
            "low = 2.625 high = 4.25 ans = 3.4375\n",
            "low = 2.625 high = 3.4375 ans = 3.03125\n",
            "low = 2.625 high = 3.03125 ans = 2.828125\n",
            "low = 2.828125 high = 3.03125 ans = 2.9296875\n",
            "low = 2.9296875 high = 3.03125 ans = 2.98046875\n",
            "low = 2.98046875 high = 3.03125 ans = 3.005859375\n",
            "low = 2.98046875 high = 3.005859375 ans = 2.9931640625\n",
            "low = 2.9931640625 high = 3.005859375 ans = 2.99951171875\n",
            "low = 2.99951171875 high = 3.005859375 ans = 3.002685546875\n",
            "low = 2.99951171875 high = 3.002685546875 ans = 3.0010986328125\n",
            "numGuesses = 14\n",
            "3.00030517578125 is close to square root of 27\n"
          ]
        }
      ]
    },
    {
      "cell_type": "code",
      "source": [
        "#cube root\n",
        "x = 27\n",
        "epsilon = 0.01\n",
        "numGuesses = 0\n",
        "low = 1.0\n",
        "high = x\n",
        "ans = (high+low)//2.0\n",
        "\n",
        "while abs(ans**3 - x) >= epsilon:\n",
        "  print('low = ' + str(low) + ' high = ' + str(high) +  ' ans = ' + str(ans))\n",
        "  numGuesses += 1\n",
        "  if ans**3 < x:\n",
        "    low = ans\n",
        "  else:\n",
        "    high = ans\n",
        "  ans = (high + low) // 2.0\n",
        "\n",
        "print('numGuesses = ' + str(numGuesses))\n",
        "\n",
        "print(str(ans) + ' is close to square root of ' + str(x))\n"
      ],
      "metadata": {
        "colab": {
          "base_uri": "https://localhost:8080/"
        },
        "id": "geytNNR8JK1_",
        "outputId": "6714980a-f3d4-43d2-92a3-5cab4e9619b3"
      },
      "execution_count": null,
      "outputs": [
        {
          "output_type": "stream",
          "name": "stdout",
          "text": [
            "low = 1.0 high = 27 ans = 14.0\n",
            "low = 1.0 high = 14.0 ans = 7.0\n",
            "low = 1.0 high = 7.0 ans = 4.0\n",
            "low = 1.0 high = 4.0 ans = 2.0\n",
            "numGuesses = 4\n",
            "3.0 is close to square root of 27\n"
          ]
        }
      ]
    },
    {
      "cell_type": "markdown",
      "source": [
        "Bisection search (//) does not work if the result is a fraction (not a whole integer)\n",
        "\n",
        "\n"
      ],
      "metadata": {
        "id": "UuvhwKDkJiK_"
      }
    },
    {
      "cell_type": "code",
      "source": [
        "#cube root\n",
        "x = 54\n",
        "epsilon = 0.01\n",
        "numGuesses = 0\n",
        "low = 1.0\n",
        "high = x\n",
        "ans = (high+low)/2.0\n",
        "\n",
        "while abs(ans**3 - x) >= epsilon:\n",
        "  print('low = ' + str(low) + ' high = ' + str(high) +  ' ans = ' + str(ans))\n",
        "  numGuesses += 1\n",
        "  if ans**3 < x:\n",
        "    low = ans\n",
        "  else:\n",
        "    high = ans\n",
        "  ans = (high + low) / 2.0\n",
        "\n",
        "print('numGuesses = ' + str(numGuesses))\n",
        "\n",
        "print(str(ans) + ' is close to square root of ' + str(x))\n"
      ],
      "metadata": {
        "colab": {
          "base_uri": "https://localhost:8080/"
        },
        "id": "8TItgparE5K3",
        "outputId": "effe3fc0-42fb-465b-8c78-46b17f48b313"
      },
      "execution_count": null,
      "outputs": [
        {
          "output_type": "stream",
          "name": "stdout",
          "text": [
            "low = 1.0 high = 54 ans = 27.5\n",
            "low = 1.0 high = 27.5 ans = 14.25\n",
            "low = 1.0 high = 14.25 ans = 7.625\n",
            "low = 1.0 high = 7.625 ans = 4.3125\n",
            "low = 1.0 high = 4.3125 ans = 2.65625\n",
            "low = 2.65625 high = 4.3125 ans = 3.484375\n",
            "low = 3.484375 high = 4.3125 ans = 3.8984375\n",
            "low = 3.484375 high = 3.8984375 ans = 3.69140625\n",
            "low = 3.69140625 high = 3.8984375 ans = 3.794921875\n",
            "low = 3.69140625 high = 3.794921875 ans = 3.7431640625\n",
            "low = 3.7431640625 high = 3.794921875 ans = 3.76904296875\n",
            "low = 3.76904296875 high = 3.794921875 ans = 3.781982421875\n",
            "low = 3.76904296875 high = 3.781982421875 ans = 3.7755126953125\n",
            "low = 3.7755126953125 high = 3.781982421875 ans = 3.77874755859375\n",
            "low = 3.77874755859375 high = 3.781982421875 ans = 3.780364990234375\n",
            "numGuesses = 15\n",
            "3.7795562744140625 is close to square root of 54\n"
          ]
        }
      ]
    },
    {
      "cell_type": "code",
      "source": [
        "#cube root\n",
        "x = 54\n",
        "epsilon = 0.01\n",
        "numGuesses = 0\n",
        "low = 1.0\n",
        "high = x\n",
        "ans = (high+low)//2.0\n",
        "\n",
        "while abs(ans**3 - x) >= epsilon:\n",
        "  print('low = ' + str(low) + ' high = ' + str(high) +  ' ans = ' + str(ans))\n",
        "  numGuesses += 1\n",
        "  if ans**3 < x:\n",
        "    low = ans\n",
        "  else:\n",
        "    high = ans\n",
        "  ans = (high + low) // 2.0\n",
        "\n",
        "print('numGuesses = ' + str(numGuesses))\n",
        "\n",
        "print(str(ans) + ' is close to square root of ' + str(x))\n"
      ],
      "metadata": {
        "colab": {
          "base_uri": "https://localhost:8080/",
          "height": 373
        },
        "id": "JKUekwssJSK3",
        "outputId": "6ed86385-0d23-48ae-bb21-2ea73f3264f2"
      },
      "execution_count": null,
      "outputs": [
        {
          "output_type": "error",
          "ename": "KeyboardInterrupt",
          "evalue": "",
          "traceback": [
            "\u001b[0;31m---------------------------------------------------------------------------\u001b[0m",
            "\u001b[0;31mKeyboardInterrupt\u001b[0m                         Traceback (most recent call last)",
            "\u001b[0;32m<ipython-input-11-3d6f138139a5>\u001b[0m in \u001b[0;36m<cell line: 9>\u001b[0;34m()\u001b[0m\n\u001b[1;32m      8\u001b[0m \u001b[0;34m\u001b[0m\u001b[0m\n\u001b[1;32m      9\u001b[0m \u001b[0;32mwhile\u001b[0m \u001b[0mabs\u001b[0m\u001b[0;34m(\u001b[0m\u001b[0mans\u001b[0m\u001b[0;34m**\u001b[0m\u001b[0;36m3\u001b[0m \u001b[0;34m-\u001b[0m \u001b[0mx\u001b[0m\u001b[0;34m)\u001b[0m \u001b[0;34m>=\u001b[0m \u001b[0mepsilon\u001b[0m\u001b[0;34m:\u001b[0m\u001b[0;34m\u001b[0m\u001b[0;34m\u001b[0m\u001b[0m\n\u001b[0;32m---> 10\u001b[0;31m   \u001b[0mprint\u001b[0m\u001b[0;34m(\u001b[0m\u001b[0;34m'low = '\u001b[0m \u001b[0;34m+\u001b[0m \u001b[0mstr\u001b[0m\u001b[0;34m(\u001b[0m\u001b[0mlow\u001b[0m\u001b[0;34m)\u001b[0m \u001b[0;34m+\u001b[0m \u001b[0;34m' high = '\u001b[0m \u001b[0;34m+\u001b[0m \u001b[0mstr\u001b[0m\u001b[0;34m(\u001b[0m\u001b[0mhigh\u001b[0m\u001b[0;34m)\u001b[0m \u001b[0;34m+\u001b[0m  \u001b[0;34m' ans = '\u001b[0m \u001b[0;34m+\u001b[0m \u001b[0mstr\u001b[0m\u001b[0;34m(\u001b[0m\u001b[0mans\u001b[0m\u001b[0;34m)\u001b[0m\u001b[0;34m)\u001b[0m\u001b[0;34m\u001b[0m\u001b[0;34m\u001b[0m\u001b[0m\n\u001b[0m\u001b[1;32m     11\u001b[0m   \u001b[0mnumGuesses\u001b[0m \u001b[0;34m+=\u001b[0m \u001b[0;36m1\u001b[0m\u001b[0;34m\u001b[0m\u001b[0;34m\u001b[0m\u001b[0m\n\u001b[1;32m     12\u001b[0m   \u001b[0;32mif\u001b[0m \u001b[0mans\u001b[0m\u001b[0;34m**\u001b[0m\u001b[0;36m3\u001b[0m \u001b[0;34m<\u001b[0m \u001b[0mx\u001b[0m\u001b[0;34m:\u001b[0m\u001b[0;34m\u001b[0m\u001b[0;34m\u001b[0m\u001b[0m\n",
            "\u001b[0;32m/usr/local/lib/python3.10/dist-packages/ipykernel/iostream.py\u001b[0m in \u001b[0;36mwrite\u001b[0;34m(self, string)\u001b[0m\n\u001b[1;32m    400\u001b[0m             \u001b[0mis_child\u001b[0m \u001b[0;34m=\u001b[0m \u001b[0;34m(\u001b[0m\u001b[0;32mnot\u001b[0m \u001b[0mself\u001b[0m\u001b[0;34m.\u001b[0m\u001b[0m_is_master_process\u001b[0m\u001b[0;34m(\u001b[0m\u001b[0;34m)\u001b[0m\u001b[0;34m)\u001b[0m\u001b[0;34m\u001b[0m\u001b[0;34m\u001b[0m\u001b[0m\n\u001b[1;32m    401\u001b[0m             \u001b[0;31m# only touch the buffer in the IO thread to avoid races\u001b[0m\u001b[0;34m\u001b[0m\u001b[0;34m\u001b[0m\u001b[0m\n\u001b[0;32m--> 402\u001b[0;31m             \u001b[0mself\u001b[0m\u001b[0;34m.\u001b[0m\u001b[0mpub_thread\u001b[0m\u001b[0;34m.\u001b[0m\u001b[0mschedule\u001b[0m\u001b[0;34m(\u001b[0m\u001b[0;32mlambda\u001b[0m \u001b[0;34m:\u001b[0m \u001b[0mself\u001b[0m\u001b[0;34m.\u001b[0m\u001b[0m_buffer\u001b[0m\u001b[0;34m.\u001b[0m\u001b[0mwrite\u001b[0m\u001b[0;34m(\u001b[0m\u001b[0mstring\u001b[0m\u001b[0;34m)\u001b[0m\u001b[0;34m)\u001b[0m\u001b[0;34m\u001b[0m\u001b[0;34m\u001b[0m\u001b[0m\n\u001b[0m\u001b[1;32m    403\u001b[0m             \u001b[0;32mif\u001b[0m \u001b[0mis_child\u001b[0m\u001b[0;34m:\u001b[0m\u001b[0;34m\u001b[0m\u001b[0;34m\u001b[0m\u001b[0m\n\u001b[1;32m    404\u001b[0m                 \u001b[0;31m# mp.Pool cannot be trusted to flush promptly (or ever),\u001b[0m\u001b[0;34m\u001b[0m\u001b[0;34m\u001b[0m\u001b[0m\n",
            "\u001b[0;32m/usr/local/lib/python3.10/dist-packages/ipykernel/iostream.py\u001b[0m in \u001b[0;36mschedule\u001b[0;34m(self, f)\u001b[0m\n\u001b[1;32m    201\u001b[0m             \u001b[0mself\u001b[0m\u001b[0;34m.\u001b[0m\u001b[0m_events\u001b[0m\u001b[0;34m.\u001b[0m\u001b[0mappend\u001b[0m\u001b[0;34m(\u001b[0m\u001b[0mf\u001b[0m\u001b[0;34m)\u001b[0m\u001b[0;34m\u001b[0m\u001b[0;34m\u001b[0m\u001b[0m\n\u001b[1;32m    202\u001b[0m             \u001b[0;31m# wake event thread (message content is ignored)\u001b[0m\u001b[0;34m\u001b[0m\u001b[0;34m\u001b[0m\u001b[0m\n\u001b[0;32m--> 203\u001b[0;31m             \u001b[0mself\u001b[0m\u001b[0;34m.\u001b[0m\u001b[0m_event_pipe\u001b[0m\u001b[0;34m.\u001b[0m\u001b[0msend\u001b[0m\u001b[0;34m(\u001b[0m\u001b[0;34mb''\u001b[0m\u001b[0;34m)\u001b[0m\u001b[0;34m\u001b[0m\u001b[0;34m\u001b[0m\u001b[0m\n\u001b[0m\u001b[1;32m    204\u001b[0m         \u001b[0;32melse\u001b[0m\u001b[0;34m:\u001b[0m\u001b[0;34m\u001b[0m\u001b[0;34m\u001b[0m\u001b[0m\n\u001b[1;32m    205\u001b[0m             \u001b[0mf\u001b[0m\u001b[0;34m(\u001b[0m\u001b[0;34m)\u001b[0m\u001b[0;34m\u001b[0m\u001b[0;34m\u001b[0m\u001b[0m\n",
            "\u001b[0;32m/usr/local/lib/python3.10/dist-packages/zmq/sugar/socket.py\u001b[0m in \u001b[0;36msend\u001b[0;34m(self, data, flags, copy, track, routing_id, group)\u001b[0m\n\u001b[1;32m    616\u001b[0m                 )\n\u001b[1;32m    617\u001b[0m             \u001b[0mdata\u001b[0m\u001b[0;34m.\u001b[0m\u001b[0mgroup\u001b[0m \u001b[0;34m=\u001b[0m \u001b[0mgroup\u001b[0m\u001b[0;34m\u001b[0m\u001b[0;34m\u001b[0m\u001b[0m\n\u001b[0;32m--> 618\u001b[0;31m         \u001b[0;32mreturn\u001b[0m \u001b[0msuper\u001b[0m\u001b[0;34m(\u001b[0m\u001b[0;34m)\u001b[0m\u001b[0;34m.\u001b[0m\u001b[0msend\u001b[0m\u001b[0;34m(\u001b[0m\u001b[0mdata\u001b[0m\u001b[0;34m,\u001b[0m \u001b[0mflags\u001b[0m\u001b[0;34m=\u001b[0m\u001b[0mflags\u001b[0m\u001b[0;34m,\u001b[0m \u001b[0mcopy\u001b[0m\u001b[0;34m=\u001b[0m\u001b[0mcopy\u001b[0m\u001b[0;34m,\u001b[0m \u001b[0mtrack\u001b[0m\u001b[0;34m=\u001b[0m\u001b[0mtrack\u001b[0m\u001b[0;34m)\u001b[0m\u001b[0;34m\u001b[0m\u001b[0;34m\u001b[0m\u001b[0m\n\u001b[0m\u001b[1;32m    619\u001b[0m \u001b[0;34m\u001b[0m\u001b[0m\n\u001b[1;32m    620\u001b[0m     def send_multipart(\n",
            "\u001b[0;32mzmq/backend/cython/socket.pyx\u001b[0m in \u001b[0;36mzmq.backend.cython.socket.Socket.send\u001b[0;34m()\u001b[0m\n",
            "\u001b[0;32mzmq/backend/cython/socket.pyx\u001b[0m in \u001b[0;36mzmq.backend.cython.socket.Socket.send\u001b[0;34m()\u001b[0m\n",
            "\u001b[0;32mzmq/backend/cython/socket.pyx\u001b[0m in \u001b[0;36mzmq.backend.cython.socket._send_copy\u001b[0;34m()\u001b[0m\n",
            "\u001b[0;32m/usr/local/lib/python3.10/dist-packages/zmq/backend/cython/checkrc.pxd\u001b[0m in \u001b[0;36mzmq.backend.cython.checkrc._check_rc\u001b[0;34m()\u001b[0m\n",
            "\u001b[0;31mKeyboardInterrupt\u001b[0m: "
          ]
        }
      ]
    },
    {
      "cell_type": "code",
      "source": [
        "import random\n",
        "\n",
        "print(random.randint(0, 100))"
      ],
      "metadata": {
        "colab": {
          "base_uri": "https://localhost:8080/"
        },
        "id": "yVIC0pxQFBn_",
        "outputId": "00a4288f-2bbd-4f92-d7d0-8d8c078b24fb"
      },
      "execution_count": null,
      "outputs": [
        {
          "output_type": "stream",
          "name": "stdout",
          "text": [
            "96\n"
          ]
        }
      ]
    },
    {
      "cell_type": "code",
      "source": [
        "low = 0\n",
        "high = 100\n",
        "#numSecret = 42\n",
        "#numGuess = int(input(\"Please enter a number between 0 to 100.\"))\n",
        "print(\"Please guess of a number between 0 to 100.\")\n",
        "\n",
        "while True:\n",
        "  numGuess = (low + high) // 2.0\n",
        "  resultGuess = str((input(f'Is your secret number {numGuess}?\\nEnter \"h\" to indicate the guess is too high. Enter \"l\" to indicate the guess is too low. Enter \"c\" to indicate I guessed correctly: ' )))\n",
        "  if resultGuess == 'l':\n",
        "      low = numGuess\n",
        "  elif resultGuess == 'h':\n",
        "      high = numGuess\n",
        "  elif resultGuess == 'c':\n",
        "    print(f\"Game over. Your secret number is {numGuess}.\")\n",
        "    break\n",
        "  else:\n",
        "    print('Invalid input.\\nEnter \"h\" to indicate the guess is too high. Enter \"l\" to indicate the guess is too low. Enter \"c\" to indicate I guessed correctly: ')\n",
        "    break\n",
        "\n"
      ],
      "metadata": {
        "colab": {
          "base_uri": "https://localhost:8080/"
        },
        "id": "NN1gfv3SFz0u",
        "outputId": "1fa88419-f274-445b-a435-eab08f6d8293"
      },
      "execution_count": null,
      "outputs": [
        {
          "output_type": "stream",
          "name": "stdout",
          "text": [
            "Please guess of a number between 0 to 100.\n",
            "Is your secret number 50.0?\n",
            "Enter \"h\" to indicate the guess is too high. Enter \"l\" to indicate the guess is too low. Enter \"c\" to indicate I guessed correctly: h\n",
            "Is your secret number 25.0?\n",
            "Enter \"h\" to indicate the guess is too high. Enter \"l\" to indicate the guess is too low. Enter \"c\" to indicate I guessed correctly: l\n",
            "Is your secret number 37.0?\n",
            "Enter \"h\" to indicate the guess is too high. Enter \"l\" to indicate the guess is too low. Enter \"c\" to indicate I guessed correctly: l\n",
            "Is your secret number 43.0?\n",
            "Enter \"h\" to indicate the guess is too high. Enter \"l\" to indicate the guess is too low. Enter \"c\" to indicate I guessed correctly: l\n",
            "Is your secret number 46.0?\n",
            "Enter \"h\" to indicate the guess is too high. Enter \"l\" to indicate the guess is too low. Enter \"c\" to indicate I guessed correctly: h\n",
            "Is your secret number 44.0?\n",
            "Enter \"h\" to indicate the guess is too high. Enter \"l\" to indicate the guess is too low. Enter \"c\" to indicate I guessed correctly: l\n",
            "Is your secret number 45.0?\n",
            "Enter \"h\" to indicate the guess is too high. Enter \"l\" to indicate the guess is too low. Enter \"c\" to indicate I guessed correctly: c\n",
            "Game over. Your secret number is 45.0.\n"
          ]
        }
      ]
    },
    {
      "cell_type": "code",
      "source": [
        "low = 0\n",
        "high = 100\n",
        "\n",
        "while True:\n",
        "  numGuess = (low + high) // 2.0\n",
        "  print(f'Please think of a number between 0 and 100!')\n",
        "  print(f'Is your secret number {int(numGuess)}?')\n",
        "  resultGuess = input(\"Enter 'h' to indicate the guess is too high. Enter 'l' to indicate the guess is too low. Enter 'c' to indicate I guessed correctly: \")\n",
        "  if resultGuess == 'l':\n",
        "      low = numGuess\n",
        "  elif resultGuess == 'h':\n",
        "      high = numGuess\n",
        "  elif resultGuess == 'c':\n",
        "    print(f\"Game over. Your secret number was {int(numGuess)}.\")\n",
        "    break\n",
        "  else:\n",
        "    print('Invalid input.\\nEnter \"h\" to indicate the guess is too high. Enter \"l\" to indicate the guess is too low. Enter \"c\" to indicate I guessed correctly: ')\n",
        "    break\n",
        "\n"
      ],
      "metadata": {
        "colab": {
          "base_uri": "https://localhost:8080/"
        },
        "id": "LydrmP1aVarV",
        "outputId": "51f698ab-9ce0-4f22-c498-622cca8cb1e3"
      },
      "execution_count": null,
      "outputs": [
        {
          "output_type": "stream",
          "name": "stdout",
          "text": [
            "Please think of a number between 0 and 100!\n",
            "Is your secret number 50?\n",
            "Enter 'h' to indicate the guess is too high. Enter 'l' to indicate the guess is too low. Enter 'c' to indicate I guessed correctly: l\n",
            "Please think of a number between 0 and 100!\n",
            "Is your secret number 75?\n",
            "Enter 'h' to indicate the guess is too high. Enter 'l' to indicate the guess is too low. Enter 'c' to indicate I guessed correctly: l\n",
            "Please think of a number between 0 and 100!\n",
            "Is your secret number 87?\n",
            "Enter 'h' to indicate the guess is too high. Enter 'l' to indicate the guess is too low. Enter 'c' to indicate I guessed correctly: h\n",
            "Please think of a number between 0 and 100!\n",
            "Is your secret number 81?\n",
            "Enter 'h' to indicate the guess is too high. Enter 'l' to indicate the guess is too low. Enter 'c' to indicate I guessed correctly: l\n",
            "Please think of a number between 0 and 100!\n",
            "Is your secret number 84?\n",
            "Enter 'h' to indicate the guess is too high. Enter 'l' to indicate the guess is too low. Enter 'c' to indicate I guessed correctly: h\n",
            "Please think of a number between 0 and 100!\n",
            "Is your secret number 82?\n",
            "Enter 'h' to indicate the guess is too high. Enter 'l' to indicate the guess is too low. Enter 'c' to indicate I guessed correctly: l\n",
            "Please think of a number between 0 and 100!\n",
            "Is your secret number 83?\n",
            "Enter 'h' to indicate the guess is too high. Enter 'l' to indicate the guess is too low. Enter 'c' to indicate I guessed correctly: c\n",
            "Game over. Your secret number is 83.\n"
          ]
        }
      ]
    }
  ]
}