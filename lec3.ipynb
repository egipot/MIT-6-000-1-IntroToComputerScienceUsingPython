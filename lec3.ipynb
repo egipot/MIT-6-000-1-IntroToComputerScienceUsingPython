{
  "nbformat": 4,
  "nbformat_minor": 0,
  "metadata": {
    "colab": {
      "provenance": [],
      "authorship_tag": "ABX9TyOifn/zx4e0ZIbaV6TimpZV",
      "include_colab_link": true
    },
    "kernelspec": {
      "name": "python3",
      "display_name": "Python 3"
    },
    "language_info": {
      "name": "python"
    }
  },
  "cells": [
    {
      "cell_type": "markdown",
      "metadata": {
        "id": "view-in-github",
        "colab_type": "text"
      },
      "source": [
        "<a href=\"https://colab.research.google.com/github/egipot/MIT-6-000-1-IntroToComputerScienceUsingPython/blob/main/lec3.ipynb\" target=\"_parent\"><img src=\"https://colab.research.google.com/assets/colab-badge.svg\" alt=\"Open In Colab\"/></a>"
      ]
    },
    {
      "cell_type": "code",
      "execution_count": null,
      "metadata": {
        "colab": {
          "base_uri": "https://localhost:8080/"
        },
        "id": "CM7F8m8Xrscs",
        "outputId": "a8f9c153-453e-4bfa-f1b3-04996d06b56a"
      },
      "outputs": [
        {
          "output_type": "stream",
          "name": "stdout",
          "text": [
            "10011\n"
          ]
        }
      ],
      "source": [
        "#decimual to binary\n",
        "num = 19\n",
        "\n",
        "if num < 0:\n",
        "    isNeg = True\n",
        "    num = abs(num)\n",
        "else:\n",
        "    isNeg = False\n",
        "result = ''\n",
        "if num == 0:\n",
        "    result = '0'\n",
        "while num > 0:\n",
        "    result = str(num%2) + result\n",
        "    num = num//2\n",
        "if isNeg:\n",
        "    result = '-' + result\n",
        "\n",
        "print(result)"
      ]
    }
  ]
}